{
 "cells": [
  {
   "cell_type": "code",
   "execution_count": 54,
   "metadata": {},
   "outputs": [],
   "source": [
    "import numpy as np\n",
    "import matplotlib.pyplot as plt"
   ]
  },
  {
   "cell_type": "code",
   "execution_count": 55,
   "metadata": {},
   "outputs": [],
   "source": [
    "NA_0=1000\n",
    "half_life=100\n",
    "cons=0.693/half_life\n",
    "delta_t=1\n",
    "\n",
    "time=np.linspace(0,100,11)\n",
    "\n",
    "NB_0=0"
   ]
  },
  {
   "cell_type": "code",
   "execution_count": 56,
   "metadata": {},
   "outputs": [
    {
     "name": "stdout",
     "output_type": "stream",
     "text": [
      "[1000.          933.04672407  870.5761893   812.28826148  757.90290137\n",
      "  707.15881929  659.81221973  615.63563012  574.41680791  535.95772087\n",
      "  500.0735957 ]\n"
     ]
    }
   ],
   "source": [
    "NA_exact=NA_0*np.exp(-cons*time) #exact solution\n",
    "print(NA_exact)\n"
   ]
  },
  {
   "cell_type": "code",
   "execution_count": 73,
   "metadata": {},
   "outputs": [],
   "source": [
    "def NA_dot(c,N): #defining N_dot for Euler method\n",
    "    return (-1)*c*N \n",
    "\n",
    "def NA(t):\n",
    "    NA=NA_0\n",
    "    NB=NB_0\n",
    "    for i in np.arange(0,t,delta_t):\n",
    "        NAdot=NA_dot(cons,NA)\n",
    "        NA=NA+NAdot*delta_t\n",
    "    return NA\n",
    " \n",
    "\n",
    "NA_Num=np.array([])\n",
    "NB_Num=np.array([])\n",
    "for t in time:\n",
    "    NA_Num=np.append(NA_Num,N(t))\n",
    "    NB_Num=np.append(NB_Num,NB)\n",
    "\n",
    "#actually, N_Num has many results based on the np.arange, but np.append only input to N_Num  \n",
    "#that is associated with specific array in 'time' variable (which is 0, 10, 20, 30, ....)"
   ]
  },
  {
   "cell_type": "code",
   "execution_count": 74,
   "metadata": {},
   "outputs": [
    {
     "name": "stdout",
     "output_type": "stream",
     "text": [
      "[  0.  10.  20.  30.  40.  50.  60.  70.  80.  90. 100.]\n",
      "[1000.   930.7  861.4  792.1  722.8  653.5  584.2  514.9  445.6  376.3\n",
      "  307. ]\n",
      "[1000.          933.04672407  870.5761893   812.28826148  757.90290137\n",
      "  707.15881929  659.81221973  615.63563012  574.41680791  535.95772087\n",
      "  500.0735957 ]\n",
      "[<function NB at 0x00000207CFB29318> <function NB at 0x00000207CFB29318>\n",
      " <function NB at 0x00000207CFB29318> <function NB at 0x00000207CFB29318>\n",
      " <function NB at 0x00000207CFB29318> <function NB at 0x00000207CFB29318>\n",
      " <function NB at 0x00000207CFB29318> <function NB at 0x00000207CFB29318>\n",
      " <function NB at 0x00000207CFB29318> <function NB at 0x00000207CFB29318>\n",
      " <function NB at 0x00000207CFB29318>]\n"
     ]
    }
   ],
   "source": [
    "print(time)\n",
    "\n",
    "print(NA_Num)\n",
    " \n",
    "print(NA_exact)  \n",
    "\n",
    "print(NB_Num)"
   ]
  },
  {
   "cell_type": "code",
   "execution_count": 65,
   "metadata": {},
   "outputs": [
    {
     "name": "stdout",
     "output_type": "stream",
     "text": [
      "[ 0.  1.  2.  3.  4.  5.  6.  7.  8.  9. 10. 11. 12. 13. 14. 15. 16. 17.\n",
      " 18. 19. 20. 21. 22. 23. 24. 25. 26. 27. 28. 29. 30. 31. 32. 33. 34. 35.\n",
      " 36. 37. 38. 39. 40. 41. 42. 43. 44. 45. 46. 47. 48. 49. 50. 51. 52. 53.\n",
      " 54. 55. 56. 57. 58. 59. 60. 61. 62. 63. 64. 65. 66. 67. 68. 69. 70. 71.\n",
      " 72. 73. 74. 75. 76. 77. 78. 79. 80. 81. 82. 83. 84. 85. 86. 87. 88. 89.\n",
      " 90. 91. 92. 93. 94. 95. 96. 97. 98. 99.]\n"
     ]
    }
   ],
   "source": [
    "x=np.arange(0,t,delta_t)\n",
    "print(x)"
   ]
  },
  {
   "cell_type": "code",
   "execution_count": 60,
   "metadata": {},
   "outputs": [
    {
     "name": "stdout",
     "output_type": "stream",
     "text": [
      "1000\n"
     ]
    }
   ],
   "source": []
  },
  {
   "cell_type": "code",
   "execution_count": null,
   "metadata": {},
   "outputs": [],
   "source": []
  },
  {
   "cell_type": "code",
   "execution_count": null,
   "metadata": {},
   "outputs": [],
   "source": []
  }
 ],
 "metadata": {
  "kernelspec": {
   "display_name": "Python 3",
   "language": "python",
   "name": "python3"
  },
  "language_info": {
   "codemirror_mode": {
    "name": "ipython",
    "version": 3
   },
   "file_extension": ".py",
   "mimetype": "text/x-python",
   "name": "python",
   "nbconvert_exporter": "python",
   "pygments_lexer": "ipython3",
   "version": "3.7.6"
  }
 },
 "nbformat": 4,
 "nbformat_minor": 4
}
